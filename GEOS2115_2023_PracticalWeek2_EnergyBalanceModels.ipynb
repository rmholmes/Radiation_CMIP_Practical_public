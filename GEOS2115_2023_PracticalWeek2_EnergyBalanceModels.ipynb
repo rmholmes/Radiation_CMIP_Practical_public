{
 "cells": [
  {
   "cell_type": "markdown",
   "id": "5616a89a",
   "metadata": {},
   "source": [
    "# **GEOS2115/2915 2023 Practical Week 2:** Zero-dimensional climate modelling – the planetary energy balance\n",
    "\n",
    "Welcome to the GEOS2115/2915 2023 climate/oceanography practicals! In these practicals, covering weeks 1-4 of the course, we will be using the python programming language to do some data analysis within a Jupyter-notebook (this file). We will learn some basics of Jupyter-notebooks and python run on the edstem.org platform. \n",
    "\n",
    "**Note that no prior programming knowledge/skills are required. If you've never seen python before don't worry! All the tasks in these practicals can be completed with a few simple commands or modifications to existing code, without needing to write your own code from scratch.**\n",
    "\n",
    "In the first week (Week 2 of the course), we will cover an introduction to python, jupyter-notebooks and edstem.org. We will then build upon the energy balance model of the Earth's climate system discussed in the first lecture with some exercises.\n",
    "\n",
    "### Assessment\n",
    "Assessment will involve answering questions using the results from your analysis and visualisations to be handed in as a report at the end of Week 4 (March 19th). <font color='red'>The questions that you must answer and hand in in your final report are provided in red text</font> (they are also provided as a separate document on Canvas).  Marks for each question are indicated with the question, with a total of 100 marks allocated for the Weeks 2-4 practical assessment (20% of the course grade).\n",
    "\n",
    "<font color='blue'> Instructions and questions given in blue will help you learn, but do not need to be handed in for assessment (although you are welcome to add more information if you wish).</font>\n",
    "\n",
    "We suggest that while going through the practical exercises you compile your final report at the same time, answering each question as you go along.  \n"
   ]
  },
  {
   "cell_type": "markdown",
   "id": "7eb63417",
   "metadata": {},
   "source": [
    "# First things first: An introduction to python, jupyter-notebooks and edstem.org\n",
    "\n",
    "[Python](https://www.python.org/) is a programming and data analysis language used widely for scientific computing. It is one of the most popular languages in climate science and there are many open source packages available for analysing climate data. We will be using a few of these.\n",
    "\n",
    "[Jupyter](https://jupyter.org/) is a system for interactive data analysis and programming. This file that you're currently looking at is a *Jupyter notebook*.\n",
    "\n",
    "We will be interacting with our jupyter notebooks through the [edstem](https://edstem.org/) platform. edstem provides computing resources and a platform for running Jupyter notebooks in University classes."
   ]
  },
  {
   "cell_type": "markdown",
   "id": "c0417691",
   "metadata": {},
   "source": [
    "## Working with edstem.org\n",
    "\n",
    "Given that you're reading this text, you already know how to login into edstem.org, access the \"GEOS2115_Weeks1-4_Practicals\" workspace and open a Jupyter-notebook (this file). It is within this workspace that we will be performing our data analysis.\n",
    "\n",
    "As a first step, please press the \"fork\" button in the top right hand corner of this workspace. This will create your own copy of the GEOS2115_Weeks1-4_Practicals workspace within which you can run and modify the Jupyter notebooks. If you ever make a mistake (delete a jupyter notebook accidently, change something within the notebook that you didn't intend and can't revert etc.) then you can obtain a fresh version of all the notebooks by navigating back to the workspaces page, click on the read-only version of the GEOS2115_Weeks1-4_Practicals and fork it again (it would be advisable to delete your broken version of the workspace first).\n",
    "\n",
    "Within the workspace, on the left you should see a list of three Jupyter-notebook files, one for each of weeks 2-4. Clicking on one of the jupyter notebooks will open it.\n",
    "\n",
    "If you'd like to keep your modifications to this file, remember to periodically press the \"save\" button."
   ]
  },
  {
   "cell_type": "markdown",
   "id": "6583c02a",
   "metadata": {},
   "source": [
    "## Working with a jupyter notebook\n",
    "\n",
    "Jupyter notebooks consist of a series of cells that display different types of information. The two types of cells are: \n",
    "\n",
    "1) text cells \n",
    "2) code cells \n",
    "\n",
    "Text cells (like this one) are used to make notes and display information. They are written in plain text but, when executed, can display headings, links etc. depending on their contents. To see how this works, double click on this cell to see the plain text used to generate it (on the left, which you can edit) and the display text it will generate (on the right)."
   ]
  },
  {
   "cell_type": "markdown",
   "id": "d05ec052",
   "metadata": {},
   "source": [
    "Code cells (like the next cell below) are used to *execute* python code. You can execute a cell by clicking on the cell, hovering your mouse over the `[ ]` symbol in the top left and then pressing the play button that appears. Alternatively, you can click within the cell and press shift+enter. Any output that is produced by executing the cell (including any error messages) will be displayed below the cell.\n",
    "\n",
    "Note that plain text (that will be ignored) can be entered in code cells using a # symbol. This is used to provide *comments* within the code so that anyone reading the code knows what is happening.\n",
    "\n",
    "<font color='blue'> Execute the following code cell to see its results.</font>"
   ]
  },
  {
   "cell_type": "code",
   "execution_count": null,
   "id": "4ad89a9f",
   "metadata": {},
   "outputs": [],
   "source": [
    "# Do a calculation\n",
    "two = 1+1\n",
    "\n",
    "# Define a string (text variable)\n",
    "Message = \"I'm good at math!\"\n",
    "\n",
    "# Print both variables\n",
    "print(two)\n",
    "print(Message)"
   ]
  },
  {
   "cell_type": "markdown",
   "id": "3a45d1c9",
   "metadata": {},
   "source": [
    "The tool bar above contains various buttons for working with Jupyter notebooks. You can add a new cell below the current one using the +code or +text buttons. You can delete cells or move them up and down using buttons that appear in the top right of each cell (when it is active).\n",
    "\n",
    "To copy cells, simply select the contents of a cell with your cursor, use ctrl-C and then copy it into a new cell.\n",
    "\n",
    "The \"Commands\" drop-down menu also has lots of other potentially useful commands.\n",
    "\n",
    "In this practical you will work through the various sections of the notebook, executing cells to see the results of their calculations. In some cases you will be required to edit code within the cells to change variables and examine how those changes impact the results of the calculation.\n",
    "\n",
    "Note that the results of some cells depend on the results of previous cells - and so make sure you execute the cells in order! If you make a mistake, you can press the \"restart kernal\" button on the top right of the notebook to restart the background kernal (meaning you'll have to execute each cell again)."
   ]
  },
  {
   "cell_type": "markdown",
   "id": "69080c0a",
   "metadata": {},
   "source": [
    "#### Useful resources:\n",
    "\n",
    "Further resources that can be useful are as follows:\n",
    "- Your best resource is google. If you don't know how to do something, google it!\n",
    "- A great resource for those new to python is found at https://www.py4e.com/ \n",
    "- A detailed introduction to Jupyter notebooks: https://realpython.com/jupyter-notebook-introduction/\n",
    "- Of course, you can also ask your tutor or your classmates."
   ]
  },
  {
   "cell_type": "markdown",
   "id": "e59fd7ea",
   "metadata": {},
   "source": [
    "# Let's get started with our first climate model: The equilibrium case\n",
    "\n",
    "In this practical we will be examining a series of generalizations of the global energy balance model discussed in the first lecture. Note that portions of this practical exercise have been adapted from various web resources, including Brian Rose's [Climate Laboratory](https://brian-rose.github.io/ClimateLaboratoryBook/home.html)\n",
    "\n",
    "We will first examine the dependence of the global energy balance model on various parameters. We will then consider time-dependent energy balance models and a look at a few scenarios relevant to changes in climate.\n",
    "    \n",
    "First, by executing the next cell, we load a few useful python packages that we will be using to do calculations and to plot our results:"
   ]
  },
  {
   "cell_type": "code",
   "execution_count": null,
   "id": "fffd0401",
   "metadata": {},
   "outputs": [],
   "source": [
    "%matplotlib inline\n",
    "import numpy as np\n",
    "import matplotlib.pyplot as plt"
   ]
  },
  {
   "cell_type": "markdown",
   "id": "656060a2",
   "metadata": {},
   "source": [
    "## Equilibrium Model 1.0\n",
    "\n",
    "In the first lecture, we defined a *Model 1.0* that calculates the equilibrium surface temperature of an Earth without an atmosphere by equating the incoming absorbed solar radiation with the outgoing (terrestrial black body) radiation. The model is captured by the following image:\n",
    "\n",
    "<div>\n",
    "<center><img src=\"images/Model1p0.png\" width=\"750\"/></center>\n",
    "</div>\n",
    "\n",
    "by balancing the absorbed solar radiation (ASR, blue arrows) with the outgoing longwave radiation (OLR, red arrow), we can derive a formula for the surface temperature ($T_s$, in degrees Kelvin):\n",
    "\n",
    "$$\n",
    "\\begin{align}\n",
    "ASR &= OLR \\\\\n",
    "\\frac{S_0}{4} -\\frac{S_0}{4}\\alpha &= \\sigma T_s^4 \\\\\n",
    "T_s &= [S_0 \\frac{1- \\alpha}{4\\sigma}]^{1/4}\n",
    "\\end{align}\n",
    "$$\n",
    "where $S_0$ is the solar constant, $\\alpha$ is the albedo and $\\sigma$ is the Stefan-Boltzman constant.\n",
    "\n",
    "To do this calculation using python, we first define our constants:"
   ]
  },
  {
   "cell_type": "code",
   "execution_count": null,
   "id": "72edf238",
   "metadata": {},
   "outputs": [],
   "source": [
    "sigSB = 5.67E-8  # Stefan-Boltzman constant (Watts meter-2 Kelvin-4), 5.67e-8\n",
    "S0  = 1365       # Solar constant (Watts meter-2), 1365\n",
    "alpha = 0.3      # albedo, 0.3\n",
    "K_to_C = 273.15  # 0 Celsius in Kelvin, 273.15"
   ]
  },
  {
   "cell_type": "markdown",
   "id": "0afdb1f9",
   "metadata": {},
   "source": [
    "and then do the calculation, printing the results in degrees Kelvin and Celsius (note that in python the double star (\\**) indicates an exponent):"
   ]
  },
  {
   "cell_type": "code",
   "execution_count": null,
   "id": "65f6b8b8",
   "metadata": {},
   "outputs": [],
   "source": [
    "# Calculate surface temperature\n",
    "Ts = (S0*(1-alpha)/(4*sigSB))**(1/4)\n",
    "\n",
    "# Print the result to output\n",
    "print('Model 1.0 surface temperature = %3.2fK = %3.2fC' % (Ts, Ts-K_to_C))"
   ]
  },
  {
   "cell_type": "markdown",
   "id": "0cf4bde5",
   "metadata": {},
   "source": [
    "<font color='blue'> Recalculate the Model 1.0 surface temperature with a few different values for the Solar constant and albedo. Can you make this model agree better with what you might expect? Are the parameters you need to choose to achieve this realistic? </font>"
   ]
  },
  {
   "cell_type": "markdown",
   "id": "178066fc",
   "metadata": {},
   "source": [
    "A note on outputing variables: Above we used python's `print` statement to nicely format the output of the cell (e.g. outputing the results to 2 decimal places). However, if you're just interested in a quick look at what a variable contains, you can execute a cell with that variable on the last line and its contents/value will be displayed. For example:"
   ]
  },
  {
   "cell_type": "code",
   "execution_count": null,
   "id": "a4558244",
   "metadata": {},
   "outputs": [],
   "source": [
    "Ts"
   ]
  },
  {
   "cell_type": "markdown",
   "id": "bf7589a3",
   "metadata": {},
   "source": [
    "## Equilibrium Model 2.0\n",
    "\n",
    "In the lectures we also considered a model 2.0 which introduced a basic atmosphere that was largely opaque to longwave radiation as captured by an atmospheric *emissivity* $\\epsilon$:\n",
    "\n",
    "<div>\n",
    " <center><img src=\"images/Model2p0.png\" width=\"750\"/> </center>\n",
    "</div>\n",
    "\n",
    "The surface temperature from this Model 2.0 was derived in the first lecture:\n",
    "\n",
    "$$T_s = [\\frac{2}{2-\\epsilon}]^{1/4}[S_0 \\frac{1- \\alpha}{4\\sigma}]^{1/4}$$\n",
    "\n",
    "Notice that the second part of this formula is the same as Model 1.0 (also know as the *emission temperature*, $T_e$), but including an atmosphere has added a modification term dependent on $\\epsilon$.\n",
    "\n",
    "<font color='blue'> In the following code block, evaluate the surface temperature given by Model 2.0 by coding up this formula (in place of the \"???\"). Note that if you changed the constants S0 and alpha above in Model 1.0, you will have to change them back and re-execute the code block. </font>"
   ]
  },
  {
   "cell_type": "code",
   "execution_count": null,
   "id": "c0289d36",
   "metadata": {},
   "outputs": [],
   "source": [
    "# Define the emissivity\n",
    "epsilon = 0.97   # atmospheric emissivity, 0.97\n",
    "\n",
    "# Use it to calculate the surface temperature of Model 2.0\n",
    "Ts = (2/(2-epsilon...???"
   ]
  },
  {
   "cell_type": "markdown",
   "id": "b175c7d9",
   "metadata": {},
   "source": [
    "As discussed in the lecture, the Model 2.0 surface temperature is now much closer to what we might expect."
   ]
  },
  {
   "cell_type": "markdown",
   "id": "90648714",
   "metadata": {},
   "source": [
    "<font color='blue'> Try altering the atmospheric emissivity to better represent the actual observed average surface temperature (about 288K). What value do you need to choose for the emissivity to achieve this? </font>"
   ]
  },
  {
   "cell_type": "markdown",
   "id": "2b55ae9e",
   "metadata": {},
   "source": [
    "Assessment questions: \n",
    "\n",
    "1. <font color='red'> Briefly describe 3 problems with Model 2.0 which arise due to its simplicity [**6 marks**]. </font>\n",
    "2. <font color='red'> The solar constant isn't really a good name for the incoming solar irradiance as it varies on an 11-year time-scale (and other longer time-scales). Using Model 2.0, calculate the change in equilibrium temperature that can be attributed to the variation of the solar constant on the 11-year time-scale and briefly discuss its magnitude in comparison with the observed temperature increase of ~0.7C over the 20th century. (Hint: Use this website http://www.pmodwrc.ch/pmod.php?topic=tsi/composite/SolarConstant) [**5 marks**] </font>"
   ]
  },
  {
   "cell_type": "markdown",
   "id": "d10da8d9",
   "metadata": {},
   "source": [
    "# Model 3.0: A time dependent energy balance model\n",
    "\n",
    "In reality the Earth's temperature does not respond immediately to a forcing. It takes time for the various parts of the system to adjust to a change. Therefore, the *equilibrium* assumption made by Model's 1.0 and 2.0, where we assumed that the absorbed solar radiation was equal to the outgoing longwave radiation, is not strictly valid.\n",
    "\n",
    "These changes can be captured by introducing time dependence into our model, in the form of a *time derivative* of the total energy content of the Earth System, denoted $E$:\n",
    "\n",
    "$$\n",
    "\\begin{align}\n",
    "\\frac{dE}{dt} &= \\text{net energy flux into system} \\\\\n",
    "              &= \\text{flux in} - \\text{flux out} \\\\\n",
    "              &= ASR - OLR \\\\\n",
    "\\end{align}\n",
    "$$\n",
    "\n",
    "This equation says that the change in the total energy content of the system with time is equal to the imbalance between the absorbed energy (ASR) and the energy radiated to space (OLR). This equation is an example of an *energy budget equation* or *energy conservation equation*, which forms the basis for every climate model no matter how complicated or simple.\n",
    "\n",
    "The more energy contained in the system, the warmer the planet becomes. Hence, the energy content can be related to the surface temperature of the planet by introducing an *effective heat capacity* $C$:\n",
    "\n",
    "$$E = C T_s$$\n",
    "\n",
    "On time-scales of 10-100 years, the major energy reservoir of the climate system is the ocean. For the purposes of this model, we will assume that the effective heat capacity $C$ corresponds to the upper layer of the ocean (that which is in contact with the atmosphere). I.e. our time-dependent model 3.0 can be characterized by adding an ocean reservoir with a time-dependent energy content $E(t)$ and temperature $T_s(t)$ to the bottom of Model 2.0 :\n",
    "\n",
    "<div>\n",
    " <center><img src=\"images/Model3p0.png\" width=\"750\"/> </center>\n",
    "</div>\n",
    "\n",
    "Given a surface ocean layer of $H=100$m depth, the effective heat capacity can be calculated as follows:\n",
    "\n",
    "$$C = c_w\\rho_w H$$\n",
    "\n",
    "where $c_w=4000$ J kg$^{-1}$K$^{-1}$ is the specific heat of water and $\\rho_w=1000$kgm$^{-3}$ is the density of water.\n",
    "\n",
    "Bringing this all together, and using the formula's for ASR and OLR from Model 2.0, the following equation characterizes Model 3.0:\n",
    "\n",
    "$$\n",
    "\\begin{align}\n",
    "C \\frac{dT_s}{dt} &= ASR - OLR \\\\\n",
    "                  &= \\frac{S_0}{4}(1-\\alpha) - \\frac{2-\\epsilon}{2}\\sigma T_s^4 \\tag{1}\n",
    "\\end{align}\n",
    "$$\n",
    "\n",
    "We will now put together some code to solve this equation numerically as a function of time. **Note: You do not need to understand the details of the method used to solve this equation. The details are included in case you are interested. All you will need to do is change some parameters and examine how these change the results**\n",
    "\n",
    "First we define the parameters used in the above equations (note, we redefine a few parameters already used above here so that they are easier to change):"
   ]
  },
  {
   "cell_type": "code",
   "execution_count": null,
   "id": "b2ef512c",
   "metadata": {},
   "outputs": [],
   "source": [
    "S0 = 1365         # Solar constant [Watts m-2]\n",
    "alpha = 0.3       # albedo\n",
    "epsilon = 0.97    # atmospheric emisivity\n",
    "rhow = 1000.      # water density [kg m-3]\n",
    "cw   = 4000.      # water specific heat [Joules kg-1 Kelvin-1]\n",
    "H    = 100.       # ocean surface layer depth [m]\n",
    "sigSB = 5.67E-8  # Stefan-Boltzman constant [Watts meter-2 Kelvin-4], 5.67e-8\n",
    "\n",
    "Ts_initial = 255. # initial temperature (temperature at year 0) [Kelvin]\n",
    "\n",
    "C = rhow*cw*H     # effective heat capacity of the surface ocean [Joules m-2 Kelvin-1]"
   ]
  },
  {
   "cell_type": "markdown",
   "id": "3ea644e9",
   "metadata": {},
   "source": [
    "To solve the equation we will make use of a numerical technique called *finite difference time stepping*. This consists of representing the surface temperature $T_s(t)$ at a set of defined times (here once every year for 50 years) and then stepping forward from one year to the next using the following representation of the time derivative:\n",
    "\n",
    "$$\\frac{dT_s}{dt} = \\frac{T_s^{i+1}-T_s^{i}}{\\Delta t}$$\n",
    "\n",
    "where $T_s^{i}$ represents the surface temperature on year $i$. Using Model 3.0, Eq. (1) above, the temperature at year $i+1$ can be calculated from that at year $i$ as follows:\n",
    "\n",
    "$$T_s^{i+1} = T_s^{i} + \\frac{\\Delta t}{C}(ASR-OLR) \\tag{2}$$\n",
    "\n",
    "Global climate models use similar techniques to simulate the climate forward in time starting from some *initial condition* (here our model uses an initial temperature of `Ts_initial`, defined in the previous code block).\n",
    "\n",
    "To solve Eq. (2), we first define the time step (1 year) and length (50 years) of our simulation. We can then use these parameters to initialize a [*numpy array*](https://numpy.org/doc/stable/reference/generated/numpy.array.html) to save the results of the calculation (i.e. the temperature at each year i, $T_s^i$). For the purposes of some later questions, we will also allow `S0`, the incoming solar radiation from the sun, to vary from year-to-year, and so we also initialize a numpy array for `S0`."
   ]
  },
  {
   "cell_type": "code",
   "execution_count": null,
   "id": "65451b5e",
   "metadata": {},
   "outputs": [],
   "source": [
    "# define time stepping parameters\n",
    "dt = 86400*365.           # time step in seconds (one year), Delta t in above equations.\n",
    "n = 50                    # Number of years/time steps\n",
    "year = np.arange(1.,n+1)  # array of year number\n",
    "\n",
    "# Initialize array for the incoming solar radiation S0\n",
    "S0_timedep = S0*np.ones(n) # Wm-2"
   ]
  },
  {
   "cell_type": "markdown",
   "id": "10c72424",
   "metadata": {},
   "source": [
    "Outputing the `year` variable shows us what an array looks like:"
   ]
  },
  {
   "cell_type": "code",
   "execution_count": null,
   "id": "2bde3940",
   "metadata": {},
   "outputs": [],
   "source": [
    "year"
   ]
  },
  {
   "cell_type": "markdown",
   "id": "3e8c7501",
   "metadata": {},
   "source": [
    "Finally, we define a python *function* that solves the model."
   ]
  },
  {
   "cell_type": "code",
   "execution_count": null,
   "id": "f81ac3bd",
   "metadata": {},
   "outputs": [],
   "source": [
    "# Define a function to solve the model, which takes the parameters as inputs\n",
    "def solve_model3(sigSB,epsilon,dt,C,n,alpha,S0_timedep,Ts_initial):\n",
    "    \n",
    "    # Initialize array to save the results and set temperature of initial year (note that indexing of numpy arrays starts at 0 not 1).\n",
    "    Ts = np.zeros(n) # Surface temperature, Kelvin\n",
    "    Ts[0] = Ts_initial\n",
    "\n",
    "    # Solve the model using a loop over years.\n",
    "    for i in range(n-1):\n",
    "        \n",
    "        # Calculate ASR and OLR for year i (see Eq. 1)\n",
    "        ASR = S0_timedep[i]/4*(1-alpha)\n",
    "        OLR = (2-epsilon)/2*sigSB*Ts[i]**4\n",
    "        \n",
    "        # Calculate the temperature at year i+1 from Ts, ASR and OLR at year i (see Eq. 2)\n",
    "        Ts[i+1] = Ts[i] + dt/C*(ASR-OLR)\n",
    "    \n",
    "    # Return the result:\n",
    "    return(Ts)"
   ]
  },
  {
   "cell_type": "markdown",
   "id": "c7ebdeea",
   "metadata": {},
   "source": [
    "Now we can solve the model and plot the results using the [matplotlib](https://matplotlib.org/) package, adding axis labels and a title:"
   ]
  },
  {
   "cell_type": "code",
   "execution_count": null,
   "id": "2edb3e1b",
   "metadata": {},
   "outputs": [],
   "source": [
    "# Solve the model\n",
    "Ts = solve_model3(sigSB,epsilon,dt,C,n,alpha,S0_timedep,Ts_initial)\n",
    "\n",
    "# Plot the results\n",
    "plt.plot(year,Ts-K_to_C)\n",
    "plt.title('Model 3.0 surface temperature')\n",
    "plt.ylabel('Temperature [degC]')\n",
    "plt.xlabel('Year')"
   ]
  },
  {
   "cell_type": "markdown",
   "id": "a76995ff",
   "metadata": {},
   "source": [
    "<font color='blue'> What temperature does the Model 3.0 adjust to over time (hint: output the final temperature by evaluating `Ts[-1]` in a new code block)? Is this consistent with Model 2.0 and why? </font>\n",
    "\n",
    "Assessment question: \n",
    "\n",
    "3. <font color='red'>  Try increasing the depth of the surface ocean layer to, say, 250m. Does the equilibrium temperature change? Explain why or why not. What does change? Explain why. **[5 marks]** \n",
    "</font>\n",
    "\n",
    "### Saving figures:\n",
    "\n",
    "Note: If you wish to include a copy of a figure in your final report, or save a figure to file, there are three ways you can do this:\n",
    "1. Right-click on the figure and select \"save image as\" (this might depend on what type of computer you are using).\n",
    "2. Take a screenshot of the figure (e.g. using Window's \"snipping tool\") and save it to your own computer.\n",
    "3. Use the matplotlib command `plt.savefig(filename)`. For example, adding `plt.savefig('Model3_Ts.png')` below the `plt.xlabel` command in the above cell and then executing the cell again will save a png file with the filename `Model3_Ts.png` within the workspace (you should be able to see the file in the file list on the left)."
   ]
  },
  {
   "cell_type": "markdown",
   "id": "7938ca43",
   "metadata": {},
   "source": [
    "## The impact of a Volcano\n",
    "\n",
    "Now that we have a time-dependent model, we can examine the impact of time-varying forcings such as volcanic eruptions.\n",
    "\n",
    "<font color='blue'> If you modified the value of `H` for the above question, change it back to `H = 100` and reexecute that code block </font>\n",
    "\n",
    "Volcanic eruptions emit aerosols into the Earth's atmosphere, predominantly sulfur dioxide (SO2). When sulfur dioxide enters the stratosphere, it can react with water molecules to form sulphuric acid, which can form a haze of liquid droplets that reflect solar radiation back to space. Thus, the effect of a volcano on the Earth's radiation budget can be modelled as a temporary decrease in the incoming solar radiation during the period in which the volcanic aerosols remain in suspension in the atmosphere (typically a time period of several years or more).\n",
    "\n",
    "In the following code block, we run a new simulation with Model 3.0 where we introduce a volcanic eruption on Year 5 that emits aerosols into the atmosphere that decrease the incoming solar radiation by 10%. We do this by changing the values of the numpy array `S0_timedep` to be equal to 90% of the constant value `S0`.\n",
    "\n",
    "Note: python array indexing begins at `0`. I.e. the first element of the array `S0_timedep` can be accessed via `S0_timedep[0]`. Furthermore, when selecting a *slice* of several elements of a numpy array, the end of the slice is one number below that included. So, the command `S0_timedep[4:7]` on the third line below modifies years 5, 6 and 7 of the array."
   ]
  },
  {
   "cell_type": "code",
   "execution_count": null,
   "id": "eca0ee1c",
   "metadata": {},
   "outputs": [],
   "source": [
    "# Create incoming solar radiation time series:\n",
    "S0_timedep = S0*np.ones(n)\n",
    "S0_timedep[4:7] = S0*0.9\n",
    "\n",
    "# Run model starting with a temperature close to equilibrium\n",
    "Ts_initial = 300.75\n",
    "Ts = solve_model3(sigSB,epsilon,dt,C,n,alpha,S0_timedep,Ts_initial)\n",
    "\n",
    "# Plot the results, including the incoming solar radiation time series\n",
    "# Here we make a figure with two panels using the matplotlib \"subplots\" command.\n",
    "\n",
    "# First define the subplots and figure size:\n",
    "fig,axes = plt.subplots(nrows=2,ncols=1,figsize=(12,12))\n",
    "\n",
    "# Plot the time-dependent incoming solar radiation array as a time series in panel 1:\n",
    "axes[0].plot(year,S0_timedep)\n",
    "axes[0].set_title('Model 3.0 Incoming solar radiation')\n",
    "axes[0].set_ylabel('S0 [Wm-2]')\n",
    "axes[0].set_xlabel('Year')\n",
    "\n",
    "# Plot the Model 3.0 surface temperature time series in panel 2:\n",
    "axes[1].plot(year,Ts-K_to_C)\n",
    "axes[1].set_title('Model 3.0 surface temperature')\n",
    "axes[1].set_ylabel('Temperature [degC]')\n",
    "axes[1].set_xlabel('Year')"
   ]
  },
  {
   "cell_type": "markdown",
   "id": "ac782d14",
   "metadata": {},
   "source": [
    "Assessment questions:\n",
    " \n",
    "4. <font color='red'> Describe the response you see in the surface temperature. What effects do you observe if you change the magnitude of the volcanic eruption (e.g. instead of a 10% reduction, try a 20 or 30% reduction) and the time-scale of its effect (e.g. what if the eruption lasts 5 years, or 20 years)? Explain these effects. **[5 marks]** </font>\n",
    "5. <font color='red'> The graph below shows the global surface temperature anomaly (from the 1961-90 mean) for 1980-2005 with the period of the Pinatubo volcanic eruption marked with a black bar. How does the global temperature respond in comparison to the response to an eruption in your model? What are some of the reasons for the differences? **[3 marks]**\n",
    "</font>\n",
    "\n",
    "<div>\n",
    " <center><img src=\"images/GMST.png\" width=\"500\"/> </center>\n",
    "</div>"
   ]
  },
  {
   "cell_type": "markdown",
   "id": "65f6b9bc",
   "metadata": {},
   "source": [
    "# Model 3.1: A simple representation of the ice-albedo feedback\n",
    "\n",
    "For the final exercise of this practical, we examine a simple representation of a climate feedback. Climate feedbacks will be discussed in more detail in the second lecture. \n",
    "\n",
    "Here, we consider the *ice-albedo* feedback. This refers to the fact that as the Earth's surface temperature warms, we expect the ice and snow covering the polar (and mountaneous) regions to melt. As this ice melts, it exposes typically darker, less reflective underlying surfaces such as the ocean or rock. These surfaces have a smaller albedo and thus the planet's albedo overall decreases, causing more solar radiation to be absorbed, warming the planet, further melting the ice and snow which then further reduces the albedo.\n",
    "\n",
    "We can model the impact of this temperature-dependent albedo using a modified version of our Model 3.0 above, which we will call Model 3.1.\n",
    "\n",
    "We construct our temperature-dependent albedo as follows:\n",
    "1. When there is ice, the albedo is high and so when the surface temperature is less than 260K (-13C) we set the albedo to 0.7.\n",
    "2. When there is no ice, the albedo is low and so when the surface temperature is greater than 298K (25C) we set the albedo to 0.291.\n",
    "3. When there is some ice, the albedo is somewhere inbetween these values.\n",
    "\n",
    "The following code block defines a function `albedo(Ts)` which captures these dependencices, with a quadratic transition between the two extreme albedo values (of no ice vs. all ice). Executing the code block defines the function and plots it as a function of temperature."
   ]
  },
  {
   "cell_type": "code",
   "execution_count": null,
   "id": "4c0b4513",
   "metadata": {},
   "outputs": [],
   "source": [
    "T_ice = 260.            # Temperature at which there is only ice\n",
    "T_noice = 293.          # Temperature at which there is no ice\n",
    "alpha_noice = 0.291     # Albedo with no ice\n",
    "alpha_ice = 0.7         # Albedo with ice\n",
    "\n",
    "# Define function that returns the albedo for a given input surface temperature Ts\n",
    "def albedo(Ts):\n",
    "    \n",
    "    if (Ts<T_ice):\n",
    "        alpha = alpha_ice\n",
    "    elif (Ts>T_noice):\n",
    "        alpha = alpha_noice\n",
    "    else:\n",
    "        alpha = alpha_noice + (alpha_ice-alpha_noice)*(Ts-T_noice)**2./(T_ice-T_noice)**2.\n",
    "        \n",
    "    return(alpha)\n",
    "\n",
    "# Create an array of temperatures and albedo's to plot the function\n",
    "Ts_plot = np.arange(-40.,80.)+K_to_C\n",
    "alphapl = np.zeros_like(Ts_plot)\n",
    "for i in range(len(Ts_plot)):\n",
    "    alphapl[i] = albedo(Ts_plot[i])\n",
    "    \n",
    "# Plot the function\n",
    "plt.plot(alphapl,Ts_plot-273.15)\n",
    "plt.ylabel('Surface Temperature (degrees Celsius)')\n",
    "plt.xlabel('Albedo')\n",
    "plt.xlim([0.,1.])"
   ]
  },
  {
   "cell_type": "markdown",
   "id": "1bc2f67b",
   "metadata": {},
   "source": [
    "We now define a new model 3.1 function, which is like the `solve_model3` function above except that it uses the variable albedo function, and we return to using a constant `S0`:"
   ]
  },
  {
   "cell_type": "code",
   "execution_count": null,
   "id": "39b50165",
   "metadata": {},
   "outputs": [],
   "source": [
    "# Define a function to solve the model, which takes the parameters as inputs\n",
    "def solve_model3p1(sigSB,epsilon,dt,C,n,S0,Ts_initial):\n",
    "    \n",
    "    # Initialize array to save the results and set temperature of initial year (note that indexing of numpy arrays starts at 0 not 1).\n",
    "    Ts = np.zeros(n) # Surface temperature, Kelvin\n",
    "    Ts[0] = Ts_initial\n",
    "\n",
    "    # Solve the model using a loop over years.\n",
    "    for i in range(n-1):\n",
    "        \n",
    "        # Calculate ASR and OLR for year i (see Eq. 1), using the albedo(Ts) function defined above\n",
    "        ASR = S0/4*(1-albedo(Ts[i]))\n",
    "        OLR = (2-epsilon)/2*sigSB*Ts[i]**4\n",
    "        \n",
    "        # Calculate the temperature at year i+1 from Ts, ASR and OLR at year i (see Eq. 2)\n",
    "        Ts[i+1] = Ts[i] + dt/C*(ASR-OLR)\n",
    "    \n",
    "    # Return the result:\n",
    "    return(Ts)"
   ]
  },
  {
   "cell_type": "markdown",
   "id": "87fdca8d",
   "metadata": {},
   "source": [
    "We are now in a position to solve the model and plot the results.\n",
    "\n",
    "However, before moving on we make one significant change to the parameters we've used above. As you may have noticed, the Model 2.0/3.0 surface temperature with the standard parameters that we have used up to now (`S0=1365Wm-2`, `albedo = 0.3` and `epsilon=0.97`) is warmer than we would expect (27-28C instead of ~15C). For the purposes of this ice-albedo exercise, this different is important as one would expect to have a relatively ice free planet if the average surface temperature was 27C. So, instead of making things more complicated by introducing further model elements, here we correct this issue by \"tuning\" the atmospheric emissivity to produce a more realistic surface temperature.\n",
    "\n",
    "The actual average surface temperature of the planet is about 288K, or about 15C. To achieve this equilibrium surface temperature with Model 2.0, we can use an atmospheric emissivity of 0.778. <font color='blue'> Verify using the Model 2.0 code above that using this atmospheric emissivity indeed gives an equilibrium surface temperature of 288K </font>\n",
    "\n",
    "The following code block uses these parameters to solve Model 3.1 and plot the resulting surface temperature and albedo time series, given an initial temperature of 288K."
   ]
  },
  {
   "cell_type": "code",
   "execution_count": null,
   "id": "65435eb4",
   "metadata": {},
   "outputs": [],
   "source": [
    "epsilon = 0.778  # A \"tuned\" atmospheric emissivity\n",
    "\n",
    "S0 = 1365         # Solar constant [Watts m-2]\n",
    "\n",
    "rhow = 1000.      # water density [kg m-3]\n",
    "cw   = 4000.      # water specific heat [Joules kg-1 Kelvin-1]\n",
    "H    = 100.       # ocean surface layer depth [m]\n",
    "C = rhow*cw*H     # effective heat capacity of the surface ocean [Joules m-2 Kelvin-1]\n",
    "\n",
    "sigSB = 5.67E-8  # Stefan-Boltzman constant (Watts meter-2 Kelvin-4), 5.67e-8\n",
    "\n",
    "Ts_initial = 288.1 # initial temperature (temperature at year 0) [Kelvin]\n",
    "\n",
    "dt = 86400*365. # time step in seconds (one year), Delta t in above equations.\n",
    "n = 200         # Number of years\n",
    "\n",
    "# Define year array and solve model 3.1:\n",
    "year = np.arange(1,n+1)\n",
    "Ts = solve_model3p1(sigSB,epsilon,dt,C,n,S0,Ts_initial)\n",
    "\n",
    "# Construct alpha time series from Ts time series for plot:\n",
    "alphapl = np.zeros_like(Ts)\n",
    "for i in range(len(Ts)):\n",
    "    alphapl[i] = albedo(Ts[i])\n",
    "\n",
    "# Plot the results:\n",
    "fig,axes = plt.subplots(nrows=2,ncols=1,figsize=(16,10))\n",
    "\n",
    "axes[0].plot(year,Ts-K_to_C)\n",
    "axes[0].set_title('Model 3.1 surface temperature')\n",
    "axes[0].set_ylabel('Temperature [degC]')\n",
    "axes[0].set_xlabel('Year')\n",
    "\n",
    "axes[1].plot(year,alphapl)\n",
    "axes[1].set_title('Model 3.1 Albedo')\n",
    "axes[1].set_ylabel('Albedo')"
   ]
  },
  {
   "cell_type": "markdown",
   "id": "fdc1f49b",
   "metadata": {},
   "source": [
    "Using these default parameters and the initial temperature of 288K, we can see that Model 3.1 gives a temperature that is pretty stable and does not deviate much from its initial value. It warms by only about 0.08 degrees and the change in albedo is negligible. This is largely because we have chosen (or \"tuned\") the parameters of the model to give a stable result.\n",
    "\n",
    "However, because the albedo is now temperature dependent, Model 3.1 will represent changes in climate in a different way to our earlier models, as you will explore through the final two assessment questions for this week's practical."
   ]
  },
  {
   "cell_type": "markdown",
   "id": "83289125",
   "metadata": {},
   "source": [
    "Assessment questions:\n",
    "\n",
    "6. <font color='red'> Global warming experiment: Imagine that the concentration of greenhouse gases in the atmosphere increases as a result of human activity. Rerun the Model 3.1 simulation with the atmospheric emissivity increased from 0.778 to 0.86. How does the equilibrium (i.e. final year) temperature change? Is this temperature change larger or smaller than the temperature change for the same emissivity increase in Model 2.0? Explain why in your own words.  **[5 marks]** </font>\n",
    "\n",
    "7. <font color='red'> Something very different can happen with Model 3.1 if the radiative forcing is decreased (i.e. a cooling). Return the atmospheric emissivity to the original value of 0.778 and investigate what happens as the incoming solar radiation (S0) is decreased. Try decreasing S0 from 1365Wm-2 in intervals of 10Wm-2. What happens as you approach values of 1315Wm-2 and below? Explain why. **[5 marks]**\n",
    "</font>"
   ]
  },
  {
   "cell_type": "code",
   "execution_count": null,
   "id": "908ac2c0",
   "metadata": {},
   "outputs": [],
   "source": []
  }
 ],
 "metadata": {
  "kernelspec": {
   "display_name": "Python 3 (ipykernel)",
   "language": "python",
   "name": "python3"
  },
  "language_info": {
   "codemirror_mode": {
    "name": "ipython",
    "version": 3
   },
   "file_extension": ".py",
   "mimetype": "text/x-python",
   "name": "python",
   "nbconvert_exporter": "python",
   "pygments_lexer": "ipython3",
   "version": "3.8.8"
  }
 },
 "nbformat": 4,
 "nbformat_minor": 5
}
